{
  "cells": [
    {
      "cell_type": "raw",
      "metadata": {
        "vscode": {
          "languageId": "raw"
        }
      },
      "source": [
        "# Task 3: Predictive Analytics for Resource Allocation\n",
        "\n",
        "## Goal\n",
        "- Preprocess data (clean, label, split)\n",
        "- Train a Random Forest model to predict issue priority (high/medium/low)\n",
        "- Evaluate using accuracy and F1-score\n",
        "\n",
        "## Dataset\n",
        "Using the Breast Cancer Wisconsin dataset from scikit-learn, which contains features computed from digitized images of breast mass and binary classification (malignant/benign). We'll convert this to a multi-class priority problem for resource allocation.\n"
      ]
    },
    {
      "cell_type": "code",
      "execution_count": null,
      "metadata": {},
      "outputs": [],
      "source": [
        "\n",
        "import pandas as pd\n",
        "import numpy as np\n",
        "import matplotlib.pyplot as plt\n",
        "import seaborn as sns\n",
        "from sklearn.datasets import load_breast_cancer\n",
        "from sklearn.model_selection import train_test_split, cross_val_score, GridSearchCV\n",
        "from sklearn.ensemble import RandomForestClassifier\n",
        "from sklearn.preprocessing import StandardScaler, LabelEncoder\n",
        "from sklearn.metrics import accuracy_score, f1_score, classification_report, confusion_matrix\n",
        "from sklearn.impute import SimpleImputer\n",
        "import warnings\n",
        "warnings.filterwarnings('ignore')\n",
        "\n",
        "\n",
        "np.random.seed(42)\n"
      ]
    },
    {
      "cell_type": "raw",
      "metadata": {
        "vscode": {
          "languageId": "raw"
        }
      },
      "source": [
        "## 1. Data Loading and Exploration\n"
      ]
    },
    {
      "cell_type": "code",
      "execution_count": null,
      "metadata": {},
      "outputs": [
        {
          "name": "stdout",
          "output_type": "stream",
          "text": [
            "Dataset description:\n",
            ".. _breast_cancer_dataset:\n",
            "\n",
            "Breast cancer Wisconsin (diagnostic) dataset\n",
            "--------------------------------------------\n",
            "\n",
            "**Data Set Characteristics:**\n",
            "\n",
            ":Number of Instances: 569\n",
            "\n",
            ":Number of Attributes: 30 numeric, predictive attributes and the class\n",
            "\n",
            ":Attribute Information:\n",
            "    - radius (mean of distances from center to points on the perimeter)\n",
            "    - texture (standard deviation of gray-scale values)\n",
            "    - perimeter\n",
            "    - area\n",
            "    - smoothness (local variation in radius lengths)\n",
            "    - compactness (...\n",
            "\n",
            "Dataset shape: (569, 31)\n",
            "\n",
            "Feature names: [np.str_('mean radius'), np.str_('mean texture'), np.str_('mean perimeter'), np.str_('mean area'), np.str_('mean smoothness'), np.str_('mean compactness'), np.str_('mean concavity'), np.str_('mean concave points'), np.str_('mean symmetry'), np.str_('mean fractal dimension')]...\n",
            "\n",
            "Target classes: ['malignant' 'benign']\n"
          ]
        }
      ],
      "source": [
        "\n",
        "data = load_breast_cancer()\n",
        "print(\"Dataset description:\")\n",
        "print(data.DESCR[:500] + \"...\")\n",
        "\n",
        "df = pd.DataFrame(data.data, columns=data.feature_names)\n",
        "df['target'] = data.target\n",
        "\n",
        "print(f\"\\nDataset shape: {df.shape}\")\n",
        "print(f\"\\nFeature names: {list(data.feature_names)[:10]}...\")\n",
        "print(f\"\\nTarget classes: {data.target_names}\")\n"
      ]
    },
    {
      "cell_type": "code",
      "execution_count": null,
      "metadata": {},
      "outputs": [
        {
          "name": "stdout",
          "output_type": "stream",
          "text": [
            "Dataset Info:\n",
            "<class 'pandas.core.frame.DataFrame'>\n",
            "RangeIndex: 569 entries, 0 to 568\n",
            "Data columns (total 31 columns):\n",
            " #   Column                   Non-Null Count  Dtype  \n",
            "---  ------                   --------------  -----  \n",
            " 0   mean radius              569 non-null    float64\n",
            " 1   mean texture             569 non-null    float64\n",
            " 2   mean perimeter           569 non-null    float64\n",
            " 3   mean area                569 non-null    float64\n",
            " 4   mean smoothness          569 non-null    float64\n",
            " 5   mean compactness         569 non-null    float64\n",
            " 6   mean concavity           569 non-null    float64\n",
            " 7   mean concave points      569 non-null    float64\n",
            " 8   mean symmetry            569 non-null    float64\n",
            " 9   mean fractal dimension   569 non-null    float64\n",
            " 10  radius error             569 non-null    float64\n",
            " 11  texture error            569 non-null    float64\n",
            " 12  perimeter error          569 non-null    float64\n",
            " 13  area error               569 non-null    float64\n",
            " 14  smoothness error         569 non-null    float64\n",
            " 15  compactness error        569 non-null    float64\n",
            " 16  concavity error          569 non-null    float64\n",
            " 17  concave points error     569 non-null    float64\n",
            " 18  symmetry error           569 non-null    float64\n",
            " 19  fractal dimension error  569 non-null    float64\n",
            " 20  worst radius             569 non-null    float64\n",
            " 21  worst texture            569 non-null    float64\n",
            " 22  worst perimeter          569 non-null    float64\n",
            " 23  worst area               569 non-null    float64\n",
            " 24  worst smoothness         569 non-null    float64\n",
            " 25  worst compactness        569 non-null    float64\n",
            " 26  worst concavity          569 non-null    float64\n",
            " 27  worst concave points     569 non-null    float64\n",
            " 28  worst symmetry           569 non-null    float64\n",
            " 29  worst fractal dimension  569 non-null    float64\n",
            " 30  target                   569 non-null    int64  \n",
            "dtypes: float64(30), int64(1)\n",
            "memory usage: 137.9 KB\n",
            "None\n",
            "\n",
            "First 5 rows:\n",
            "   mean radius  mean texture  mean perimeter  mean area  mean smoothness  \\\n",
            "0        17.99         10.38          122.80     1001.0          0.11840   \n",
            "1        20.57         17.77          132.90     1326.0          0.08474   \n",
            "2        19.69         21.25          130.00     1203.0          0.10960   \n",
            "3        11.42         20.38           77.58      386.1          0.14250   \n",
            "4        20.29         14.34          135.10     1297.0          0.10030   \n",
            "\n",
            "   mean compactness  mean concavity  mean concave points  mean symmetry  \\\n",
            "0           0.27760          0.3001              0.14710         0.2419   \n",
            "1           0.07864          0.0869              0.07017         0.1812   \n",
            "2           0.15990          0.1974              0.12790         0.2069   \n",
            "3           0.28390          0.2414              0.10520         0.2597   \n",
            "4           0.13280          0.1980              0.10430         0.1809   \n",
            "\n",
            "   mean fractal dimension  ...  worst texture  worst perimeter  worst area  \\\n",
            "0                 0.07871  ...          17.33           184.60      2019.0   \n",
            "1                 0.05667  ...          23.41           158.80      1956.0   \n",
            "2                 0.05999  ...          25.53           152.50      1709.0   \n",
            "3                 0.09744  ...          26.50            98.87       567.7   \n",
            "4                 0.05883  ...          16.67           152.20      1575.0   \n",
            "\n",
            "   worst smoothness  worst compactness  worst concavity  worst concave points  \\\n",
            "0            0.1622             0.6656           0.7119                0.2654   \n",
            "1            0.1238             0.1866           0.2416                0.1860   \n",
            "2            0.1444             0.4245           0.4504                0.2430   \n",
            "3            0.2098             0.8663           0.6869                0.2575   \n",
            "4            0.1374             0.2050           0.4000                0.1625   \n",
            "\n",
            "   worst symmetry  worst fractal dimension  target  \n",
            "0          0.4601                  0.11890       0  \n",
            "1          0.2750                  0.08902       0  \n",
            "2          0.3613                  0.08758       0  \n",
            "3          0.6638                  0.17300       0  \n",
            "4          0.2364                  0.07678       0  \n",
            "\n",
            "[5 rows x 31 columns]\n",
            "\n",
            "Basic statistics:\n",
            "       mean radius  mean texture  mean perimeter    mean area  \\\n",
            "count   569.000000    569.000000      569.000000   569.000000   \n",
            "mean     14.127292     19.289649       91.969033   654.889104   \n",
            "std       3.524049      4.301036       24.298981   351.914129   \n",
            "min       6.981000      9.710000       43.790000   143.500000   \n",
            "25%      11.700000     16.170000       75.170000   420.300000   \n",
            "50%      13.370000     18.840000       86.240000   551.100000   \n",
            "75%      15.780000     21.800000      104.100000   782.700000   \n",
            "max      28.110000     39.280000      188.500000  2501.000000   \n",
            "\n",
            "       mean smoothness  mean compactness  mean concavity  mean concave points  \\\n",
            "count       569.000000        569.000000      569.000000           569.000000   \n",
            "mean          0.096360          0.104341        0.088799             0.048919   \n",
            "std           0.014064          0.052813        0.079720             0.038803   \n",
            "min           0.052630          0.019380        0.000000             0.000000   \n",
            "25%           0.086370          0.064920        0.029560             0.020310   \n",
            "50%           0.095870          0.092630        0.061540             0.033500   \n",
            "75%           0.105300          0.130400        0.130700             0.074000   \n",
            "max           0.163400          0.345400        0.426800             0.201200   \n",
            "\n",
            "       mean symmetry  mean fractal dimension  ...  worst texture  \\\n",
            "count     569.000000              569.000000  ...     569.000000   \n",
            "mean        0.181162                0.062798  ...      25.677223   \n",
            "std         0.027414                0.007060  ...       6.146258   \n",
            "min         0.106000                0.049960  ...      12.020000   \n",
            "25%         0.161900                0.057700  ...      21.080000   \n",
            "50%         0.179200                0.061540  ...      25.410000   \n",
            "75%         0.195700                0.066120  ...      29.720000   \n",
            "max         0.304000                0.097440  ...      49.540000   \n",
            "\n",
            "       worst perimeter   worst area  worst smoothness  worst compactness  \\\n",
            "count       569.000000   569.000000        569.000000         569.000000   \n",
            "mean        107.261213   880.583128          0.132369           0.254265   \n",
            "std          33.602542   569.356993          0.022832           0.157336   \n",
            "min          50.410000   185.200000          0.071170           0.027290   \n",
            "25%          84.110000   515.300000          0.116600           0.147200   \n",
            "50%          97.660000   686.500000          0.131300           0.211900   \n",
            "75%         125.400000  1084.000000          0.146000           0.339100   \n",
            "max         251.200000  4254.000000          0.222600           1.058000   \n",
            "\n",
            "       worst concavity  worst concave points  worst symmetry  \\\n",
            "count       569.000000            569.000000      569.000000   \n",
            "mean          0.272188              0.114606        0.290076   \n",
            "std           0.208624              0.065732        0.061867   \n",
            "min           0.000000              0.000000        0.156500   \n",
            "25%           0.114500              0.064930        0.250400   \n",
            "50%           0.226700              0.099930        0.282200   \n",
            "75%           0.382900              0.161400        0.317900   \n",
            "max           1.252000              0.291000        0.663800   \n",
            "\n",
            "       worst fractal dimension      target  \n",
            "count               569.000000  569.000000  \n",
            "mean                  0.083946    0.627417  \n",
            "std                   0.018061    0.483918  \n",
            "min                   0.055040    0.000000  \n",
            "25%                   0.071460    0.000000  \n",
            "50%                   0.080040    1.000000  \n",
            "75%                   0.092080    1.000000  \n",
            "max                   0.207500    1.000000  \n",
            "\n",
            "[8 rows x 31 columns]\n"
          ]
        }
      ],
      "source": [
        "\n",
        "print(\"Dataset Info:\")\n",
        "print(df.info())\n",
        "\n",
        "print(\"\\nFirst 5 rows:\")\n",
        "print(df.head())\n",
        "\n",
        "print(\"\\nBasic statistics:\")\n",
        "print(df.describe())\n"
      ]
    },
    {
      "cell_type": "code",
      "execution_count": null,
      "metadata": {},
      "outputs": [
        {
          "name": "stdout",
          "output_type": "stream",
          "text": [
            "Missing values per column:\n",
            "Series([], dtype: int64)\n",
            "No missing values found!\n",
            "\n",
            "Target distribution:\n",
            "target\n",
            "1    357\n",
            "0    212\n",
            "Name: count, dtype: int64\n",
            "\n",
            "Target distribution (%):\n",
            "target\n",
            "1    62.741652\n",
            "0    37.258348\n",
            "Name: proportion, dtype: float64\n"
          ]
        }
      ],
      "source": [
        "\n",
        "print(\"Missing values per column:\")\n",
        "missing_values = df.isnull().sum()\n",
        "print(missing_values[missing_values > 0])\n",
        "\n",
        "if missing_values.sum() == 0:\n",
        "    print(\"No missing values found!\")\n",
        "\n",
        "\n",
        "print(\"\\nTarget distribution:\")\n",
        "print(df['target'].value_counts())\n",
        "print(f\"\\nTarget distribution (%):\\n{df['target'].value_counts(normalize=True) * 100}\")\n"
      ]
    },
    {
      "cell_type": "raw",
      "metadata": {
        "vscode": {
          "languageId": "raw"
        }
      },
      "source": [
        "## 2. Data Preprocessing and Feature Engineering\n"
      ]
    },
    {
      "cell_type": "code",
      "execution_count": null,
      "metadata": {},
      "outputs": [
        {
          "name": "stdout",
          "output_type": "stream",
          "text": [
            "Priority distribution:\n",
            "priority\n",
            "low       351\n",
            "high      170\n",
            "medium     48\n",
            "Name: count, dtype: int64\n",
            "\n",
            "Priority distribution (%):\n",
            "priority\n",
            "low       61.687170\n",
            "high      29.876977\n",
            "medium     8.435852\n",
            "Name: proportion, dtype: float64\n"
          ]
        }
      ],
      "source": [
        "\n",
        "mean_radius = df['mean radius']\n",
        "worst_radius = df['worst radius']\n",
        "mean_texture = df['mean texture']\n",
        "target = df['target']\n",
        "\n",
        "\n",
        "def assign_priority(row):\n",
        "    \"\"\"\n",
        "    Assign priority based on tumor characteristics:\n",
        "    - High priority: Malignant (0) with large size or high texture\n",
        "    - Medium priority: Malignant with moderate characteristics or large benign\n",
        "    - Low priority: Small benign tumors\n",
        "    \"\"\"\n",
        "    is_malignant = row['target'] == 0  \n",
        "    radius = row['mean radius']\n",
        "    texture = row['mean texture']\n",
        "    \n",
        "\n",
        "    radius_high = df['mean radius'].quantile(0.75)\n",
        "    radius_medium = df['mean radius'].quantile(0.5)\n",
        "    texture_high = df['mean texture'].quantile(0.75)\n",
        "    \n",
        "    if is_malignant:\n",
        "        if radius > radius_high or texture > texture_high:\n",
        "            return 'high'  \n",
        "        else:\n",
        "            return 'medium'  \n",
        "    else:  \n",
        "        if radius > radius_high:\n",
        "            return 'medium'  \n",
        "        else:\n",
        "            return 'low'  \n",
        "df['priority'] = df.apply(assign_priority, axis=1)\n",
        "\n",
        "print(\"Priority distribution:\")\n",
        "print(df['priority'].value_counts())\n",
        "print(f\"\\nPriority distribution (%):\\n{df['priority'].value_counts(normalize=True) * 100}\")\n"
      ]
    },
    {
      "cell_type": "code",
      "execution_count": null,
      "metadata": {},
      "outputs": [
        {
          "data": {
            "image/png": "[encoded data removed]",
            "text/plain": [
              "<Figure size 1200x500 with 2 Axes>"
            ]
          },
          "metadata": {},
          "output_type": "display_data"
        },
        {
          "data": {
            "image/png": "[encoded data removed]",
            "text/plain": [
              "<Figure size 640x480 with 1 Axes>"
            ]
          },
          "metadata": {},
          "output_type": "display_data"
        }
      ],
      "source": [
        "\n",
        "plt.figure(figsize=(12, 5))\n",
        "\n",
        "\n",
        "plt.subplot(1, 2, 1)\n",
        "priority_counts = df['priority'].value_counts()\n",
        "plt.pie(priority_counts.values, labels=priority_counts.index, autopct='%1.1f%%', startangle=90)\n",
        "plt.title('Priority Distribution')\n",
        "\n",
        "\n",
        "plt.subplot(1, 2, 2)\n",
        "priority_target = pd.crosstab(df['priority'], df['target'])\n",
        "priority_target.plot(kind='bar', stacked=True)\n",
        "plt.title('Priority vs Original Target')\n",
        "plt.xlabel('Priority Level')\n",
        "plt.ylabel('Count')\n",
        "plt.legend(['Malignant', 'Benign'])\n",
        "plt.xticks(rotation=0)\n",
        "\n",
        "plt.tight_layout()\n",
        "plt.show()\n"
      ]
    },
    {
      "cell_type": "code",
      "execution_count": null,
      "metadata": {},
      "outputs": [
        {
          "name": "stdout",
          "output_type": "stream",
          "text": [
            "Feature matrix shape: (569, 30)\n",
            "Target vector shape: (569,)\n",
            "Features: ['mean radius', 'mean texture', 'mean perimeter', 'mean area', 'mean smoothness', 'mean compactness', 'mean concavity', 'mean concave points', 'mean symmetry', 'mean fractal dimension', 'radius error', 'texture error', 'perimeter error', 'area error', 'smoothness error', 'compactness error', 'concavity error', 'concave points error', 'symmetry error', 'fractal dimension error', 'worst radius', 'worst texture', 'worst perimeter', 'worst area', 'worst smoothness', 'worst compactness', 'worst concavity', 'worst concave points', 'worst symmetry', 'worst fractal dimension']\n"
          ]
        }
      ],
      "source": [
        "\n",
        "X = df.drop(['target', 'priority'], axis=1)\n",
        "y = df['priority']\n",
        "\n",
        "print(f\"Feature matrix shape: {X.shape}\")\n",
        "print(f\"Target vector shape: {y.shape}\")\n",
        "print(f\"Features: {list(X.columns)}\")\n"
      ]
    },
    {
      "cell_type": "code",
      "execution_count": null,
      "metadata": {},
      "outputs": [
        {
          "name": "stdout",
          "output_type": "stream",
          "text": [
            "No missing values to handle.\n",
            "\n",
            "Features have been standardized.\n",
            "Mean after scaling: -0.000000\n",
            "Std after scaling: 1.000880\n"
          ]
        }
      ],
      "source": [
        "\n",
        "if X.isnull().sum().sum() > 0:\n",
        "    print(\"Handling missing values...\")\n",
        "    imputer = SimpleImputer(strategy='median')\n",
        "    X = pd.DataFrame(imputer.fit_transform(X), columns=X.columns)\n",
        "    print(\"Missing values imputed with median.\")\n",
        "else:\n",
        "    print(\"No missing values to handle.\")\n",
        "\n",
        "scaler = StandardScaler()\n",
        "X_scaled = pd.DataFrame(scaler.fit_transform(X), columns=X.columns)\n",
        "\n",
        "print(\"\\nFeatures have been standardized.\")\n",
        "print(f\"Mean after scaling: {X_scaled.mean().mean():.6f}\")\n",
        "print(f\"Std after scaling: {X_scaled.std().mean():.6f}\")\n"
      ]
    },
    {
      "cell_type": "raw",
      "metadata": {
        "vscode": {
          "languageId": "raw"
        }
      },
      "source": [
        "## 3. Data Splitting\n"
      ]
    },
    {
      "cell_type": "code",
      "execution_count": null,
      "metadata": {},
      "outputs": [
        {
          "name": "stdout",
          "output_type": "stream",
          "text": [
            "Training set size: 455 samples\n",
            "Testing set size: 114 samples\n",
            "Feature dimensions: 30\n",
            "\n",
            "Training set priority distribution:\n",
            "priority\n",
            "low       0.617582\n",
            "high      0.298901\n",
            "medium    0.083516\n",
            "Name: proportion, dtype: float64\n",
            "\n",
            "Testing set priority distribution:\n",
            "priority\n",
            "low       0.614035\n",
            "high      0.298246\n",
            "medium    0.087719\n",
            "Name: proportion, dtype: float64\n"
          ]
        }
      ],
      "source": [
        "\n",
        "X_train, X_test, y_train, y_test = train_test_split(\n",
        "    X_scaled, y, test_size=0.2, random_state=42, stratify=y\n",
        ")\n",
        "\n",
        "print(f\"Training set size: {X_train.shape[0]} samples\")\n",
        "print(f\"Testing set size: {X_test.shape[0]} samples\")\n",
        "print(f\"Feature dimensions: {X_train.shape[1]}\")\n",
        "\n",
        "\n",
        "print(\"\\nTraining set priority distribution:\")\n",
        "print(y_train.value_counts(normalize=True))\n",
        "print(\"\\nTesting set priority distribution:\")\n",
        "print(y_test.value_counts(normalize=True))\n"
      ]
    },
    {
      "cell_type": "raw",
      "metadata": {
        "vscode": {
          "languageId": "raw"
        }
      },
      "source": [
        "## 4. Model Training - Random Forest\n"
      ]
    },
    {
      "cell_type": "code",
      "execution_count": null,
      "metadata": {},
      "outputs": [
        {
          "name": "stdout",
          "output_type": "stream",
          "text": [
            "Training Random Forest model...\n",
            "Model training completed!\n",
            "\n",
            "Predictions shape: (114,)\n",
            "Prediction probabilities shape: (114, 3)\n"
          ]
        }
      ],
      "source": [
        "\n",
        "rf_model = RandomForestClassifier(\n",
        "    n_estimators=100,\n",
        "    random_state=42,\n",
        "    max_depth=10,\n",
        "    min_samples_split=5,\n",
        "    min_samples_leaf=2\n",
        ")\n",
        "\n",
        "print(\"Training Random Forest model...\")\n",
        "rf_model.fit(X_train, y_train)\n",
        "print(\"Model training completed!\")\n",
        "\n",
        "\n",
        "y_pred = rf_model.predict(X_test)\n",
        "y_pred_proba = rf_model.predict_proba(X_test)\n",
        "\n",
        "print(f\"\\nPredictions shape: {y_pred.shape}\")\n",
        "print(f\"Prediction probabilities shape: {y_pred_proba.shape}\")\n"
      ]
    },
    {
      "cell_type": "raw",
      "metadata": {
        "vscode": {
          "languageId": "raw"
        }
      },
      "source": [
        "## 5. Model Evaluation\n"
      ]
    },
    {
      "cell_type": "code",
      "execution_count": null,
      "metadata": {},
      "outputs": [
        {
          "name": "stdout",
          "output_type": "stream",
          "text": [
            "=== MODEL PERFORMANCE METRICS ===\n",
            "Accuracy: 0.9298\n",
            "F1-Score (macro): 0.8480\n",
            "F1-Score (weighted): 0.9233\n",
            "\n",
            "=== DETAILED CLASSIFICATION REPORT ===\n",
            "              precision    recall  f1-score   support\n",
            "\n",
            "        high       0.91      0.91      0.91        34\n",
            "         low       0.93      1.00      0.97        70\n",
            "      medium       1.00      0.50      0.67        10\n",
            "\n",
            "    accuracy                           0.93       114\n",
            "   macro avg       0.95      0.80      0.85       114\n",
            "weighted avg       0.93      0.93      0.92       114\n",
            "\n"
          ]
        }
      ],
      "source": [
        "\n",
        "accuracy = accuracy_score(y_test, y_pred)\n",
        "f1_macro = f1_score(y_test, y_pred, average='macro')\n",
        "f1_weighted = f1_score(y_test, y_pred, average='weighted')\n",
        "\n",
        "print(\"=== MODEL PERFORMANCE METRICS ===\")\n",
        "print(f\"Accuracy: {accuracy:.4f}\")\n",
        "print(f\"F1-Score (macro): {f1_macro:.4f}\")\n",
        "print(f\"F1-Score (weighted): {f1_weighted:.4f}\")\n",
        "\n",
        "\n",
        "print(\"\\n=== DETAILED CLASSIFICATION REPORT ===\")\n",
        "print(classification_report(y_test, y_pred))\n"
      ]
    },
    {
      "cell_type": "code",
      "execution_count": null,
      "metadata": {},
      "outputs": [
        {
          "data": {
            "image/png": "[encoded data removed]",
            "text/plain": [
              "<Figure size 800x600 with 2 Axes>"
            ]
          },
          "metadata": {},
          "output_type": "display_data"
        },
        {
          "name": "stdout",
          "output_type": "stream",
          "text": [
            "\n",
            "Per-class Performance:\n",
            "high: Precision=0.912, Recall=0.912\n",
            "low: Precision=0.933, Recall=1.000\n",
            "medium: Precision=1.000, Recall=0.500\n"
          ]
        }
      ],
      "source": [
        "\n",
        "cm = confusion_matrix(y_test, y_pred)\n",
        "plt.figure(figsize=(8, 6))\n",
        "sns.heatmap(cm, annot=True, fmt='d', cmap='Blues', \n",
        "            xticklabels=['high', 'low', 'medium'], \n",
        "            yticklabels=['high', 'low', 'medium'])\n",
        "plt.title('Confusion Matrix')\n",
        "plt.xlabel('Predicted Priority')\n",
        "plt.ylabel('Actual Priority')\n",
        "plt.show()\n",
        "\n",
        "\n",
        "print(\"\\nPer-class Performance:\")\n",
        "for i, priority in enumerate(['high', 'low', 'medium']):\n",
        "    true_positives = cm[i, i]\n",
        "    precision = true_positives / cm[:, i].sum() if cm[:, i].sum() > 0 else 0\n",
        "    recall = true_positives / cm[i, :].sum() if cm[i, :].sum() > 0 else 0\n",
        "    print(f\"{priority}: Precision={precision:.3f}, Recall={recall:.3f}\")\n"
      ]
    },
    {
      "cell_type": "raw",
      "metadata": {
        "vscode": {
          "languageId": "raw"
        }
      },
      "source": [
        "## 6. Feature Importance Analysis\n"
      ]
    },
    {
      "cell_type": "code",
      "execution_count": null,
      "metadata": {},
      "outputs": [
        {
          "data": {
            "image/png": "[encoded data removed]",
            "text/plain": [
              "<Figure size 1000x800 with 1 Axes>"
            ]
          },
          "metadata": {},
          "output_type": "display_data"
        },
        {
          "name": "stdout",
          "output_type": "stream",
          "text": [
            "Top 10 Most Important Features:\n",
            "                 feature  importance\n",
            "23            worst area    0.145177\n",
            "22       worst perimeter    0.098056\n",
            "2         mean perimeter    0.096239\n",
            "3              mean area    0.088172\n",
            "27  worst concave points    0.082838\n",
            "20          worst radius    0.077939\n",
            "0            mean radius    0.061974\n",
            "7    mean concave points    0.056399\n",
            "6         mean concavity    0.045897\n",
            "1           mean texture    0.034184\n"
          ]
        }
      ],
      "source": [
        "\n",
        "feature_importance = pd.DataFrame({\n",
        "    'feature': X.columns,\n",
        "    'importance': rf_model.feature_importances_\n",
        "}).sort_values('importance', ascending=False)\n",
        "\n",
        "\n",
        "plt.figure(figsize=(10, 8))\n",
        "top_features = feature_importance.head(15)\n",
        "sns.barplot(data=top_features, y='feature', x='importance')\n",
        "plt.title('Top 15 Most Important Features for Priority Prediction')\n",
        "plt.xlabel('Feature Importance')\n",
        "plt.tight_layout()\n",
        "plt.show()\n",
        "\n",
        "print(\"Top 10 Most Important Features:\")\n",
        "print(feature_importance.head(10))\n"
      ]
    },
    {
      "cell_type": "raw",
      "metadata": {
        "vscode": {
          "languageId": "raw"
        }
      },
      "source": [
        "## 7. Cross-Validation and Model Robustness\n"
      ]
    },
    {
      "cell_type": "code",
      "execution_count": null,
      "metadata": {},
      "outputs": [
        {
          "name": "stdout",
          "output_type": "stream",
          "text": [
            "=== CROSS-VALIDATION RESULTS ===\n",
            "CV Accuracy: 0.9314 (+/- 0.0208)\n",
            "CV F1-Score (macro): 0.8386 (+/- 0.0856)\n",
            "Individual CV Accuracy Scores: [0.93859649 0.92982456 0.92105263 0.94736842 0.92035398]\n",
            "Individual CV F1 Scores: [0.92152778 0.82920084 0.82930121 0.81018519 0.80264716]\n"
          ]
        }
      ],
      "source": [
        "\n",
        "from sklearn.model_selection import StratifiedKFold\n",
        "\n",
        "\n",
        "cv_scores = cross_val_score(rf_model, X_scaled, y, cv=StratifiedKFold(n_splits=5, shuffle=True, random_state=42), scoring='accuracy')\n",
        "cv_f1_scores = cross_val_score(rf_model, X_scaled, y, cv=StratifiedKFold(n_splits=5, shuffle=True, random_state=42), scoring='f1_macro')\n",
        "\n",
        "print(\"=== CROSS-VALIDATION RESULTS ===\")\n",
        "print(f\"CV Accuracy: {cv_scores.mean():.4f} (+/- {cv_scores.std() * 2:.4f})\")\n",
        "print(f\"CV F1-Score (macro): {cv_f1_scores.mean():.4f} (+/- {cv_f1_scores.std() * 2:.4f})\")\n",
        "print(f\"Individual CV Accuracy Scores: {cv_scores}\")\n",
        "print(f\"Individual CV F1 Scores: {cv_f1_scores}\")\n"
      ]
    },
    {
      "cell_type": "raw",
      "metadata": {
        "vscode": {
          "languageId": "raw"
        }
      },
      "source": [
        "## 8. Final Performance Summary\n"
      ]
    },
    {
      "cell_type": "code",
      "execution_count": null,
      "metadata": {},
      "outputs": [
        {
          "name": "stdout",
          "output_type": "stream",
          "text": [
            "=== FINAL MODEL PERFORMANCE SUMMARY ===\n",
            "Dataset: Breast Cancer Wisconsin (569 samples, 30 features)\n",
            "Task: Multi-class priority prediction (high/medium/low)\n",
            "Model: Random Forest Classifier\n",
            "\n",
            "PERFORMANCE METRICS:\n",
            "- Test Accuracy: 0.9298\n",
            "- Test F1-Score (macro): 0.8480\n",
            "- Test F1-Score (weighted): 0.9233\n",
            "- Cross-validation Accuracy: 0.9314 (+/- 0.0208)\n",
            "- Cross-validation F1-Score: 0.8386 (+/- 0.0856)\n",
            "\n",
            "=== RESOURCE ALLOCATION INSIGHTS ===\n",
            "Expected case distribution:\n",
            "- Low priority: 61.4%\n",
            "- High priority: 29.8%\n",
            "- Medium priority: 8.8%\n",
            "\n",
            "Most important features for triage:\n",
            "1. worst area: 0.145\n",
            "2. worst perimeter: 0.098\n",
            "3. mean perimeter: 0.096\n",
            "4. mean area: 0.088\n",
            "5. worst concave points: 0.083\n",
            "\n",
            "Recommendations:\n",
            "- Focus resources on low priority cases (61.4% of cases)\n",
            "- Use worst area as primary screening criterion\n",
            "- Model achieves 93.0% accuracy in priority assignment\n"
          ]
        }
      ],
      "source": [
        "\n",
        "print(\"=== FINAL MODEL PERFORMANCE SUMMARY ===\")\n",
        "print(f\"Dataset: Breast Cancer Wisconsin (569 samples, 30 features)\")\n",
        "print(f\"Task: Multi-class priority prediction (high/medium/low)\")\n",
        "print(f\"Model: Random Forest Classifier\")\n",
        "print(f\"\")\n",
        "print(f\"PERFORMANCE METRICS:\")\n",
        "print(f\"- Test Accuracy: {accuracy:.4f}\")\n",
        "print(f\"- Test F1-Score (macro): {f1_macro:.4f}\")\n",
        "print(f\"- Test F1-Score (weighted): {f1_weighted:.4f}\")\n",
        "print(f\"- Cross-validation Accuracy: {cv_scores.mean():.4f} (+/- {cv_scores.std() * 2:.4f})\")\n",
        "print(f\"- Cross-validation F1-Score: {cv_f1_scores.mean():.4f} (+/- {cv_f1_scores.std() * 2:.4f})\")\n",
        "\n",
        "\n",
        "print(f\"\\n=== RESOURCE ALLOCATION INSIGHTS ===\")\n",
        "priority_dist = y_test.value_counts(normalize=True)\n",
        "print(f\"Expected case distribution:\")\n",
        "for priority, percentage in priority_dist.items():\n",
        "    print(f\"- {priority.capitalize()} priority: {percentage:.1%}\")\n",
        "\n",
        "print(f\"\\nMost important features for triage:\")\n",
        "for i, (feature, importance) in enumerate(feature_importance.head(5).values):\n",
        "    print(f\"{i+1}. {feature}: {importance:.3f}\")\n",
        "\n",
        "print(f\"\\nRecommendations:\")\n",
        "print(f\"- Focus resources on {priority_dist.index[0]} priority cases ({priority_dist.iloc[0]:.1%} of cases)\")\n",
        "print(f\"- Use {feature_importance.iloc[0]['feature']} as primary screening criterion\")\n",
        "print(f\"- Model achieves {accuracy:.1%} accuracy in priority assignment\")\n"
      ]
    },
    {
      "cell_type": "raw",
      "metadata": {
        "vscode": {
          "languageId": "raw"
        }
      },
      "source": [
        "## 9. Model Persistence and Deployment Preparation\n"
      ]
    },
    {
      "cell_type": "code",
      "execution_count": null,
      "metadata": {},
      "outputs": [
        {
          "name": "stdout",
          "output_type": "stream",
          "text": [
            "Model and preprocessor saved successfully!\n",
            "Files created:\n",
            "- breast_cancer_priority_model.pkl\n",
            "- feature_scaler.pkl\n",
            "\n",
            "Example usage:\n",
            "# Load model\n",
            "model = joblib.load('breast_cancer_priority_model.pkl')\n",
            "scaler = joblib.load('feature_scaler.pkl')\n",
            "# Make prediction\n",
            "new_data_scaled = scaler.transform(new_data)\n",
            "priority = model.predict(new_data_scaled)\n",
            "\n",
            "\n",
            "Sample prediction function created: predict_priority()\n",
            "Use this function to make predictions on new data.\n"
          ]
        }
      ],
      "source": [
        "\n",
        "import joblib\n",
        "\n",
        "\n",
        "joblib.dump(rf_model, 'breast_cancer_priority_model.pkl')\n",
        "joblib.dump(scaler, 'feature_scaler.pkl')\n",
        "\n",
        "print(\"Model and preprocessor saved successfully!\")\n",
        "print(\"Files created:\")\n",
        "print(\"- breast_cancer_priority_model.pkl\")\n",
        "print(\"- feature_scaler.pkl\")\n",
        "\n",
        "\n",
        "print(\"\\nExample usage:\")\n",
        "print(\"# Load model\")\n",
        "print(\"model = joblib.load('breast_cancer_priority_model.pkl')\")\n",
        "print(\"scaler = joblib.load('feature_scaler.pkl')\")\n",
        "print(\"# Make prediction\")\n",
        "print(\"new_data_scaled = scaler.transform(new_data)\")\n",
        "print(\"priority = model.predict(new_data_scaled)\")\n",
        "\n",
        "\n",
        "def predict_priority(features, model=rf_model, scaler=scaler):\n",
        "    \"\"\"\n",
        "    Predict priority for new breast cancer cases\n",
        "    \n",
        "    Args:\n",
        "        features: numpy array or list of 30 feature values\n",
        "        model: trained Random Forest model\n",
        "        scaler: fitted StandardScaler\n",
        "    \n",
        "    Returns:\n",
        "        priority: predicted priority level (high/medium/low)\n",
        "        probability: prediction probabilities for each class\n",
        "    \"\"\"\n",
        "\n",
        "    if len(features) == 30:\n",
        "        features = np.array(features).reshape(1, -1)\n",
        "    \n",
        "    \n",
        "    features_scaled = scaler.transform(features)\n",
        "    \n",
        "    \n",
        "    priority = model.predict(features_scaled)\n",
        "    probability = model.predict_proba(features_scaled)\n",
        "    \n",
        "    return priority[0], probability[0]\n",
        "\n",
        "print(\"\\n\\nSample prediction function created: predict_priority()\")\n",
        "print(\"Use this function to make predictions on new data.\")\n"
      ]
    }
  ],
  "metadata": {
    "kernelspec": {
      "display_name": "Python 3",
      "language": "python",
      "name": "python3"
    },
    "language_info": {
      "codemirror_mode": {
        "name": "ipython",
        "version": 3
      },
      "file_extension": ".py",
      "mimetype": "text/x-python",
      "name": "python",
      "nbconvert_exporter": "python",
      "pygments_lexer": "ipython3",
      "version": "3.12.3"
    }
  },
  "nbformat": 4,
  "nbformat_minor": 2
}
